{
  "nbformat": 4,
  "nbformat_minor": 0,
  "metadata": {
    "colab": {
      "name": "0516.ipynb",
      "provenance": [],
      "authorship_tag": "ABX9TyP5AMIFzDiMljAgIphNk7zr",
      "include_colab_link": true
    },
    "kernelspec": {
      "name": "python3",
      "display_name": "Python 3"
    },
    "language_info": {
      "name": "python"
    }
  },
  "cells": [
    {
      "cell_type": "markdown",
      "metadata": {
        "id": "view-in-github",
        "colab_type": "text"
      },
      "source": [
        "<a href=\"https://colab.research.google.com/github/409030201/Introduction-to-Compers/blob/main/0516.ipynb\" target=\"_parent\"><img src=\"https://colab.research.google.com/assets/colab-badge.svg\" alt=\"Open In Colab\"/></a>"
      ]
    },
    {
      "cell_type": "code",
      "execution_count": null,
      "metadata": {
        "colab": {
          "base_uri": "https://localhost:8080/"
        },
        "id": "3054Te_aL4Cn",
        "outputId": "9b60d3b2-2bb2-49ad-f26c-f8d0e508ce2b"
      },
      "outputs": [
        {
          "output_type": "stream",
          "name": "stdout",
          "text": [
            "1,2,3\n"
          ]
        }
      ],
      "source": [
        "print(\"1,2,3\")"
      ]
    },
    {
      "cell_type": "code",
      "source": [
        "i = range(5)\n"
      ],
      "metadata": {
        "id": "DZO7Do4OSPJe"
      },
      "execution_count": null,
      "outputs": []
    },
    {
      "cell_type": "code",
      "source": [
        "print(type(i))"
      ],
      "metadata": {
        "colab": {
          "base_uri": "https://localhost:8080/"
        },
        "id": "CBHjn1SxSTKV",
        "outputId": "71b0cef5-fbf0-4a9e-aef3-42cabb414c3a"
      },
      "execution_count": null,
      "outputs": [
        {
          "output_type": "stream",
          "name": "stdout",
          "text": [
            "<class 'range'>\n"
          ]
        }
      ]
    },
    {
      "cell_type": "code",
      "source": [
        "print(i)"
      ],
      "metadata": {
        "colab": {
          "base_uri": "https://localhost:8080/"
        },
        "id": "SyJtCxjQSXOS",
        "outputId": "86d454e2-7af2-4b43-9bd5-d4a72d506888"
      },
      "execution_count": null,
      "outputs": [
        {
          "output_type": "stream",
          "name": "stdout",
          "text": [
            "range(0, 5)\n"
          ]
        }
      ]
    },
    {
      "cell_type": "code",
      "source": [
        "print(list(i))"
      ],
      "metadata": {
        "colab": {
          "base_uri": "https://localhost:8080/"
        },
        "id": "_5dsmZPTS16j",
        "outputId": "5c0e502a-4540-407a-d195-c34ac4c3c9f8"
      },
      "execution_count": null,
      "outputs": [
        {
          "output_type": "stream",
          "name": "stdout",
          "text": [
            "[0, 1, 2, 3, 4]\n"
          ]
        }
      ]
    },
    {
      "cell_type": "code",
      "source": [
        "a = range(3,8)"
      ],
      "metadata": {
        "id": "fRr0ml1_S5Mw"
      },
      "execution_count": null,
      "outputs": []
    },
    {
      "cell_type": "code",
      "source": [
        "b = range(-2,4)"
      ],
      "metadata": {
        "id": "f9gLX2nTS_-5"
      },
      "execution_count": null,
      "outputs": []
    },
    {
      "cell_type": "code",
      "source": [
        "c = range(3,8,1)\n",
        "print(list(c))"
      ],
      "metadata": {
        "colab": {
          "base_uri": "https://localhost:8080/"
        },
        "id": "snpHGlujTLmI",
        "outputId": "5fcc6287-ffe0-4030-c54a-18b6544ca3d1"
      },
      "execution_count": null,
      "outputs": [
        {
          "output_type": "stream",
          "name": "stdout",
          "text": [
            "[3, 4, 5, 6, 7]\n"
          ]
        }
      ]
    },
    {
      "cell_type": "code",
      "source": [
        "f = range(9)\n",
        "print(list(f))"
      ],
      "metadata": {
        "colab": {
          "base_uri": "https://localhost:8080/"
        },
        "id": "7OCfLAxuTV-D",
        "outputId": "8ba7b22c-8fe3-4156-b6f3-36c61fc80de4"
      },
      "execution_count": null,
      "outputs": [
        {
          "output_type": "stream",
          "name": "stdout",
          "text": [
            "[0, 1, 2, 3, 4, 5, 6, 7, 8]\n"
          ]
        }
      ]
    },
    {
      "cell_type": "code",
      "source": [
        "q = range(1,10)\n",
        "print(list(q))"
      ],
      "metadata": {
        "colab": {
          "base_uri": "https://localhost:8080/"
        },
        "id": "egJP3vluThtL",
        "outputId": "3bd2b219-e2a0-4358-f24b-eae82cf024b9"
      },
      "execution_count": null,
      "outputs": [
        {
          "output_type": "stream",
          "name": "stdout",
          "text": [
            "[1, 2, 3, 4, 5, 6, 7, 8, 9]\n"
          ]
        }
      ]
    },
    {
      "cell_type": "code",
      "source": [
        "h = range(1,10,2)\n",
        "print(list(h))"
      ],
      "metadata": {
        "colab": {
          "base_uri": "https://localhost:8080/"
        },
        "id": "GfU5Rj4KTs2E",
        "outputId": "ce28015a-6c35-44a9-956d-4aa21e35eb89"
      },
      "execution_count": null,
      "outputs": [
        {
          "output_type": "stream",
          "name": "stdout",
          "text": [
            "[1, 3, 5, 7, 9]\n"
          ]
        }
      ]
    },
    {
      "cell_type": "code",
      "source": [
        "i =range(10,1,-2)\n",
        "print(list(i))"
      ],
      "metadata": {
        "colab": {
          "base_uri": "https://localhost:8080/"
        },
        "id": "4M6Aso0lT6bM",
        "outputId": "9cb75aec-b9f8-4b32-8693-9cffd7593ea1"
      },
      "execution_count": null,
      "outputs": [
        {
          "output_type": "stream",
          "name": "stdout",
          "text": [
            "[10, 8, 6, 4, 2]\n"
          ]
        }
      ]
    },
    {
      "cell_type": "code",
      "source": [
        "for n in range(3):\n",
        "  print(n)"
      ],
      "metadata": {
        "colab": {
          "base_uri": "https://localhost:8080/"
        },
        "id": "fY2L0UUNUYBl",
        "outputId": "46fd7b94-0fb5-4e63-8487-02c9ca14dc8b"
      },
      "execution_count": null,
      "outputs": [
        {
          "output_type": "stream",
          "name": "stdout",
          "text": [
            "0\n",
            "1\n",
            "2\n"
          ]
        }
      ]
    },
    {
      "cell_type": "code",
      "source": [
        "for n in range(10):\n",
        "   print(n, end=\",\") "
      ],
      "metadata": {
        "colab": {
          "base_uri": "https://localhost:8080/"
        },
        "id": "ActW1Rp-Utrk",
        "outputId": "a0183d3e-a522-463b-b0bc-b4faff67dd54"
      },
      "execution_count": null,
      "outputs": [
        {
          "output_type": "stream",
          "name": "stdout",
          "text": [
            "0,1,2,3,4,5,6,7,8,9,"
          ]
        }
      ]
    },
    {
      "cell_type": "code",
      "source": [
        "for n in range(0,10,2):\n",
        "   print(n, end=\",\") "
      ],
      "metadata": {
        "colab": {
          "base_uri": "https://localhost:8080/"
        },
        "id": "aRUvh_bWU5H0",
        "outputId": "89ad5ee1-bd7a-4e1a-dc92-6ee7bc1e17e7"
      },
      "execution_count": null,
      "outputs": [
        {
          "output_type": "stream",
          "name": "stdout",
          "text": [
            "0,2,4,6,8,"
          ]
        }
      ]
    },
    {
      "cell_type": "code",
      "source": [
        "test = int(input(\"請輸入一個正整數:\"))\n",
        "for m in range(1, test):\n",
        " print(m, end=\",\")"
      ],
      "metadata": {
        "colab": {
          "base_uri": "https://localhost:8080/"
        },
        "id": "u7RSf7PcVFpj",
        "outputId": "a2623394-3cbf-47d0-a644-32e2b5919967"
      },
      "execution_count": null,
      "outputs": [
        {
          "output_type": "stream",
          "name": "stdout",
          "text": [
            "請輸入一個正整數:12\n",
            "1,2,3,4,5,6,7,8,9,10,11,"
          ]
        }
      ]
    },
    {
      "cell_type": "code",
      "source": [
        "sum = 0\n",
        "for n in range(3):\n",
        "  sum = sum+n\n",
        "print(sum)"
      ],
      "metadata": {
        "colab": {
          "base_uri": "https://localhost:8080/"
        },
        "id": "PAmr_wALVq3u",
        "outputId": "b7901be6-09a7-49a3-ff75-6ddaf1b2cd89"
      },
      "execution_count": null,
      "outputs": [
        {
          "output_type": "stream",
          "name": "stdout",
          "text": [
            "3\n"
          ]
        }
      ]
    },
    {
      "cell_type": "code",
      "source": [
        "sum = 0\n",
        "for n in range(10):"
      ],
      "metadata": {
        "id": "5Uu3S6WyWPLJ"
      },
      "execution_count": null,
      "outputs": []
    },
    {
      "cell_type": "code",
      "source": [
        "sum = 0\n",
        "for n in range(3):\n",
        "  sum = sum+n\n",
        "print(sum)"
      ],
      "metadata": {
        "colab": {
          "base_uri": "https://localhost:8080/"
        },
        "id": "35_MBrT9YNbD",
        "outputId": "bbaffa28-8858-4dcd-9b28-e598264e89f9"
      },
      "execution_count": null,
      "outputs": [
        {
          "output_type": "stream",
          "name": "stdout",
          "text": [
            "3\n"
          ]
        }
      ]
    },
    {
      "cell_type": "code",
      "source": [
        "sum = 0\n",
        "for n in range(10,1,-2):\n",
        "  sum = sum+n\n",
        "print(sum)"
      ],
      "metadata": {
        "colab": {
          "base_uri": "https://localhost:8080/"
        },
        "id": "sLBLlrZTYZQa",
        "outputId": "c7ec0dec-67e2-4657-c316-7b0aa6fe061f"
      },
      "execution_count": null,
      "outputs": [
        {
          "output_type": "stream",
          "name": "stdout",
          "text": [
            "30\n"
          ]
        }
      ]
    },
    {
      "cell_type": "code",
      "source": [
        "sum = 0\n",
        "test = int(input(\"請輸入一個正整數:\"))\n",
        "for n in range(1, test+1):\n",
        "  sum = sum+n\n",
        "print(\"1到\",test,\"的正數和為\",sum)"
      ],
      "metadata": {
        "colab": {
          "base_uri": "https://localhost:8080/"
        },
        "id": "qxtFa4NRgX9I",
        "outputId": "0f17a966-553c-4df5-b077-6bc00ed97b82"
      },
      "execution_count": 1,
      "outputs": [
        {
          "output_type": "stream",
          "name": "stdout",
          "text": [
            "請輸入一個正整數:10\n",
            "1到 10 的正數和為 55\n"
          ]
        }
      ]
    },
    {
      "cell_type": "code",
      "source": [
        "sum = 0\n",
        "test = int(input(\"請輸入一個正整數:\"))\n",
        "for m in range(1, test+1):\n",
        "  sum = sum+m\n",
        "  print(\"1到\",str(m),\"的正數和為\",sum)"
      ],
      "metadata": {
        "colab": {
          "base_uri": "https://localhost:8080/"
        },
        "id": "NyOYV9-osaWL",
        "outputId": "4828c75d-e62d-4679-f90c-423b8388ab7e"
      },
      "execution_count": 2,
      "outputs": [
        {
          "output_type": "stream",
          "name": "stdout",
          "text": [
            "請輸入一個正整數:10\n",
            "1到 1 的正數和為 1\n",
            "1到 2 的正數和為 3\n",
            "1到 3 的正數和為 6\n",
            "1到 4 的正數和為 10\n",
            "1到 5 的正數和為 15\n",
            "1到 6 的正數和為 21\n",
            "1到 7 的正數和為 28\n",
            "1到 8 的正數和為 36\n",
            "1到 9 的正數和為 45\n",
            "1到 10 的正數和為 55\n"
          ]
        }
      ]
    },
    {
      "cell_type": "code",
      "source": [
        ""
      ],
      "metadata": {
        "id": "R6BJZP9vr7Bs"
      },
      "execution_count": null,
      "outputs": []
    }
  ]
}