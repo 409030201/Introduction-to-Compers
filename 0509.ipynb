{
  "nbformat": 4,
  "nbformat_minor": 0,
  "metadata": {
    "colab": {
      "name": "0509.ipynb",
      "provenance": [],
      "include_colab_link": true
    },
    "kernelspec": {
      "name": "python3",
      "display_name": "Python 3"
    },
    "language_info": {
      "name": "python"
    }
  },
  "cells": [
    {
      "cell_type": "markdown",
      "metadata": {
        "id": "view-in-github",
        "colab_type": "text"
      },
      "source": [
        "<a href=\"https://colab.research.google.com/github/409030201/Introduction-to-Compers/blob/main/0509.ipynb\" target=\"_parent\"><img src=\"https://colab.research.google.com/assets/colab-badge.svg\" alt=\"Open In Colab\"/></a>"
      ]
    },
    {
      "cell_type": "code",
      "execution_count": null,
      "metadata": {
        "colab": {
          "base_uri": "https://localhost:8080/"
        },
        "id": "WDyUQYhG7rqB",
        "outputId": "bae2256e-3ede-447b-bba0-e714637e68f8"
      },
      "outputs": [
        {
          "output_type": "stream",
          "name": "stdout",
          "text": [
            "123\n"
          ]
        }
      ],
      "source": [
        "print(\"123\")"
      ]
    },
    {
      "cell_type": "code",
      "source": [
        "temp= float(input(\"請輸入你的體溫\"))\n",
        "if temp >= 37.5:\n",
        "  print(\"體溫過高!\")\n",
        "elif temp >= 37 and temp < 37.4:\n",
        "  print(\"體溫略高!\")\n",
        "elif temp >= 34 and temp <= 36.9:\n",
        "  print(\"體溫正常!\")\n",
        "else:\n",
        "  print(\"體溫異常,請重新量測!\")\n"
      ],
      "metadata": {
        "colab": {
          "base_uri": "https://localhost:8080/"
        },
        "id": "oZzIGUL38Qe0",
        "outputId": "17496a97-666c-4f67-84a8-7da0eee7f8f3"
      },
      "execution_count": null,
      "outputs": [
        {
          "output_type": "stream",
          "name": "stdout",
          "text": [
            "請輸入你的體溫36\n",
            "體溫異常,請重新量測!\n"
          ]
        }
      ]
    },
    {
      "cell_type": "code",
      "source": [
        "x= input(\"請輸入成績\")\n",
        "if (int(x) >= 90):\n",
        "  print(\"A\")\n",
        "elif (int(x) >= 80):\n",
        "  print(\"B\")\n",
        "elif (int(x) >= 70):\n",
        "  print(\"C\")\n",
        "elif (int(x) >= 60):\n",
        "  print(\"D\")\n",
        "else:\n",
        "  print(\"E\")"
      ],
      "metadata": {
        "colab": {
          "base_uri": "https://localhost:8080/"
        },
        "id": "IWcN147x_z8a",
        "outputId": "1abe1e8a-aee6-496e-d08a-1e72b09fa40b"
      },
      "execution_count": null,
      "outputs": [
        {
          "output_type": "stream",
          "name": "stdout",
          "text": [
            "請輸入成績59\n",
            "E\n"
          ]
        }
      ]
    },
    {
      "cell_type": "code",
      "source": [
        "money = int(input(\"請輸入購物金額:\"))\n",
        "if (money >= 10000):\n",
        " if(money >= 100000):\n",
        "   print(\"八折\",money * 0.8, end = \"元\\n\")\n",
        " elif(money >= 50000):\n",
        "     print(\"八五折\",money * 0.85, end = \"元\\n\")\n",
        " elif(money >= 30000):\n",
        "     print(\"九折\",money * 0.9, end = \"元\\n\")\n",
        " else:\n",
        "     print(\"九五折\",money * 0.95, end = \"元\\n\")\n",
        "else:\n",
        "  print(\"沒打折\",money, end= \"元\\n\")"
      ],
      "metadata": {
        "colab": {
          "base_uri": "https://localhost:8080/"
        },
        "id": "xyRLhRq4E4zy",
        "outputId": "df0aef9c-0684-4f4c-a7bd-78b3a0cb29c4"
      },
      "execution_count": null,
      "outputs": [
        {
          "output_type": "stream",
          "name": "stdout",
          "text": [
            "請輸入購物金額:50000\n",
            "八五折 42500.0元\n"
          ]
        }
      ]
    },
    {
      "cell_type": "code",
      "source": [
        "mon = int(input(\"請輸入月份:\"))\n",
        "if (mon==5 or mon==3 or mon==4):\n",
        "  print(mon,\"月是春天\")\n",
        "elif (mon == 6 or mon== 7 or mon== 8):\n",
        "  print(mon,\"月是夏天\")\n",
        "elif (mon == 9 or mon== 10 or mon== 11):\n",
        "  print(mon,\"月是秋天\")\n",
        "elif (mon == 1 or mon== 2 or mon== 3):\n",
        "  print(mon,\"月是冬天\")\n",
        "else:\n",
        "  print(\"月份不在範圍內\")"
      ],
      "metadata": {
        "colab": {
          "base_uri": "https://localhost:8080/"
        },
        "id": "AEkk0U8nIzFa",
        "outputId": "5e2201e7-2ba7-4c2d-b126-5f60050c9222"
      },
      "execution_count": null,
      "outputs": [
        {
          "output_type": "stream",
          "name": "stdout",
          "text": [
            "請輸入月份:13\n",
            "月份不在範圍內\n"
          ]
        }
      ]
    },
    {
      "cell_type": "code",
      "source": [
        "money = int(input(\"請輸入稅前金額:\"))\n",
        "if (money >= 1999999):\n",
        " if(money >= 2000000):\n",
        "   print(\"付稅金額\",money * 0.3, end = \"元\\n\")\n",
        " elif(money >= 1000000):\n",
        "     print(\"付稅金額\",money * 0.21, end = \"元\\n\")\n",
        " elif(money >= 600000):\n",
        "     print(\"付稅金額\",money * 0.13, end = \"元\\n\")\n",
        " elif(money >= 300000):\n",
        "     print(\"付稅金額\",money * 0.06, end = \"元\\n\")\n",
        "else:\n",
        "  print(\"付稅金額\",money * 0 , end= \"元\\n\")"
      ],
      "metadata": {
        "colab": {
          "base_uri": "https://localhost:8080/"
        },
        "id": "0r1PGVBetFmP",
        "outputId": "df5c69e0-c9df-453a-aa4b-2687cab5e152"
      },
      "execution_count": null,
      "outputs": [
        {
          "output_type": "stream",
          "name": "stdout",
          "text": [
            "請輸入稅前金額:2000000\n",
            "付稅金額 600000.0元\n"
          ]
        }
      ]
    }
  ]
}